{
 "cells": [
  {
   "cell_type": "markdown",
   "id": "d9787d3b",
   "metadata": {},
   "source": [
    "# Introducción a Python - Nestor Martinez\n",
    "\n",
    "## Primeros Pasos\n",
    "\n",
    "Este es un párrafo. Aquí podemos escribir lo que querramos.\n",
    "\n",
    "### Lista de Compra\n",
    "- Pan\n",
    "- Huevo\n",
    "- Queso\n",
    "- Plátano\n",
    "    - Verde\n",
    "    - Maduro\n",
    "- Pollo\n",
    "* **Carne**\n",
    "- _Atún_\n",
    "\n",
    "### Receta de Arroz\n",
    "1. Sofritar Ajo\n",
    "2. Hervir el agua\n",
    "3. Agregar el arroz\n",
    "\n",
    "### Código\n",
    "\n",
    "La variable `m` es la pendiente, y `x` es la distancia.\n",
    "\n",
    "```python\n",
    "\n",
    "y = mx + b\n",
    "```\n",
    "\n",
    "### Ecuaciones\n",
    "\n",
    "$$y = mx + b$$\n",
    "\n",
    "La variable $m$ es la pendiente, y $x$ es la distancia.\n",
    "\n",
    "$$\\eta = \\frac{P_{out}}{P_{in}}$$"
   ]
  },
  {
   "cell_type": "code",
   "execution_count": 2,
   "id": "7e57ef3d",
   "metadata": {},
   "outputs": [],
   "source": [
    "x = 1\n",
    "y = 2"
   ]
  },
  {
   "cell_type": "code",
   "execution_count": 9,
   "id": "8287dfe2",
   "metadata": {},
   "outputs": [
    {
     "name": "stdout",
     "output_type": "stream",
     "text": [
      "1\n",
      "2\n"
     ]
    }
   ],
   "source": [
    "print(x)\n",
    "print(y)"
   ]
  },
  {
   "cell_type": "code",
   "execution_count": 11,
   "id": "2744202b",
   "metadata": {},
   "outputs": [],
   "source": [
    "x += 10"
   ]
  },
  {
   "cell_type": "code",
   "execution_count": 12,
   "id": "99619358",
   "metadata": {},
   "outputs": [
    {
     "name": "stdout",
     "output_type": "stream",
     "text": [
      "11\n"
     ]
    }
   ],
   "source": [
    "print(x)"
   ]
  },
  {
   "cell_type": "code",
   "execution_count": null,
   "id": "782bbcba",
   "metadata": {},
   "outputs": [],
   "source": []
  }
 ],
 "metadata": {
  "kernelspec": {
   "display_name": "Python 3 (ipykernel)",
   "language": "python",
   "name": "python3"
  },
  "language_info": {
   "codemirror_mode": {
    "name": "ipython",
    "version": 3
   },
   "file_extension": ".py",
   "mimetype": "text/x-python",
   "name": "python",
   "nbconvert_exporter": "python",
   "pygments_lexer": "ipython3",
   "version": "3.9.12"
  }
 },
 "nbformat": 4,
 "nbformat_minor": 5
}
